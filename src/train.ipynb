{
 "cells": [
  {
   "cell_type": "code",
   "execution_count": 21,
   "metadata": {},
   "outputs": [],
   "source": [
    "import enviroment\n",
    "import agents\n",
    "import memory\n",
    "import model\n",
    "from tqdm import tqdm\n",
    "from keras.models import Sequential , Model\n",
    "from tensorflow.keras.layers import Concatenate, Input, Conv2D, Flatten, Dense\n",
    "from keras.optimizers import Adam\n",
    "from keras.initializers import RandomNormal\n",
    "import policies\n",
    "import time\n",
    "import pandas as pd\n",
    "import os"
   ]
  },
  {
   "cell_type": "code",
   "execution_count": 22,
   "metadata": {},
   "outputs": [],
   "source": [
    "env = enviroment.SuperTicTacToe()"
   ]
  },
  {
   "cell_type": "code",
   "execution_count": 23,
   "metadata": {},
   "outputs": [],
   "source": [
    "# Define the shape of the two inputs\n",
    "input_shape1 = (1,) + env.observation_space.shape\n",
    "input_shape2 = (1, 1)\n",
    "# Define the two inputs\n",
    "input1 = Input(shape=input_shape1)\n",
    "input2 = Input(shape=input_shape2)\n",
    "# First path\n",
    "x = Conv2D(32, (3, 3), padding = 'same', activation='relu')(input1)  # Add a convolutional layer\n",
    "# x = Conv2D(64, (3, 3), padding = 'same', activation='relu')(x)  # Add a convolutional layer\n",
    "x = Flatten()(x)\n",
    "# Concatenate the output of the first path with the second input\n",
    "concatenated = Concatenate()([x, Flatten()(input2)])\n",
    "# Add the final Dense layer\n",
    "# output = Dense(16, kernel_initializer=RandomNormal(mean=0.0, stddev=0.05, seed=None))(concatenated)\n",
    "# output = Dense(16, kernel_initializer=RandomNormal(mean=0.0, stddev=0.05, seed=None))(output)\n",
    "output = Dense(9*9, kernel_initializer=RandomNormal(mean=0.0, stddev=0.05, seed=None))(concatenated)\n",
    "# Create the model\n",
    "net = Model(inputs=[input1, input2], outputs=output)\n",
    "#compile the model\n",
    "net.compile(loss='mse', optimizer=Adam(learning_rate=0.001))"
   ]
  },
  {
   "cell_type": "code",
   "execution_count": 32,
   "metadata": {},
   "outputs": [],
   "source": [
    "def get_experience(agent,iterations,mem_file,mdl_file,model_file):\n",
    "\n",
    "    for i in tqdm(range(iterations)):\n",
    "\n",
    "        agent.move(env)\n",
    "\n",
    "        if i != 0:\n",
    "\n",
    "            if i % 10:\n",
    "                mdl.learn(32)\n",
    "                mem.logging_stats()\n",
    "\n",
    "            if i % 100 == 0:\n",
    "                mdl.copy_weights()\n",
    "            \n",
    "            if i % 1000 == 0:\n",
    "\n",
    "                episodes = agent.episodes\n",
    "\n",
    "                #mem file and mdl file are in this form \"name.format\" i want to add the number of the iteration to the name in both\n",
    "                mem_file_aux = mem_file.split(\".\")\n",
    "                mem_file_aux = mem_file_aux[0] + str(episodes) + \".\" + mem_file_aux[1]\n",
    "                mdl_file_aux = mdl_file.split(\".\")\n",
    "                mdl_file_aux = mdl_file_aux[0] + str(episodes) + \".\" + mdl_file_aux[1]\n",
    "                model_file_aux = model_file.split(\".\")\n",
    "                model_file_aux = model_file_aux[0] + str(episodes) + \".\" + model_file_aux[1]\n",
    "\n",
    "                #save the model and the memory in the folder\n",
    "                mem.save(mem_file_aux)\n",
    "                mdl.save(mdl_file_aux)\n",
    "                agent.save(model_file_aux)\n",
    "    \n",
    "    mem.save(mem_file)\n",
    "    mdl.save(mdl_file)\n",
    "    agent.save(model_file)"
   ]
  },
  {
   "cell_type": "code",
   "execution_count": 33,
   "metadata": {},
   "outputs": [],
   "source": [
    "folder = r'D:\\berti\\Documents\\Machine Learning\\SuperTicTacToe\\SuperTicTacToeRL\\resources\\MinMaxAgents\\1'\n",
    "\n",
    "model_file = folder + r'\\model_info.txt'\n",
    "mem_file = folder + r'\\memory.bin'\n",
    "mdl_file = folder + r'\\model.h5'\n",
    "mem_log = folder + r'\\memory_log.csv'\n",
    "\n",
    "mem = memory.Memory(10000, mem_log)\n",
    "\n",
    "policy = policies.Probabilistic(0.03)\n",
    "\n",
    "mdl = model.Model(memory = mem, model = net, future = 0.68, alfa = 0.25)\n",
    "\n",
    "dqn_agent = agents.dqn_agent(model = mdl, memory = mem, policy = policy)\n",
    "\n",
    "#see if this files exist, if they do, load them\n",
    "try:\n",
    "    mem.load(mem_file)\n",
    "except:\n",
    "    print(\"Memory file not found\")\n",
    "\n",
    "try:\n",
    "    mdl.load(mdl_file)\n",
    "except:\n",
    "    print(\"Model file not found\")\n",
    "\n",
    "try:\n",
    "    dqn_agent.load(model_file)\n",
    "except:\n",
    "    print(\"Model file not found\")"
   ]
  },
  {
   "cell_type": "code",
   "execution_count": 34,
   "metadata": {},
   "outputs": [
    {
     "name": "stderr",
     "output_type": "stream",
     "text": [
      "100%|██████████| 10000/10000 [1:09:34<00:00,  2.40it/s]\n"
     ]
    }
   ],
   "source": [
    "get_experience(dqn_agent, 10000, mem_file, mdl_file, model_file)"
   ]
  },
  {
   "cell_type": "code",
   "execution_count": 42,
   "metadata": {},
   "outputs": [
    {
     "name": "stdout",
     "output_type": "stream",
     "text": [
      "Correct move\n",
      "Correct move\n",
      "Correct move\n",
      "Correct move\n",
      "Correct move\n",
      "Correct move\n",
      "Correct move\n",
      "Correct move\n",
      "Correct move\n",
      "Correct move\n",
      "Correct move\n",
      "Correct move\n",
      "Invalid board\n"
     ]
    }
   ],
   "source": [
    "#try the agent\n",
    "\n",
    "folder = r'D:\\berti\\Documents\\Machine Learning\\SuperTicTacToe\\SuperTicTacToeRL\\resources\\heatmaps'\n",
    "\n",
    "#delete all files in the folder\n",
    "for file in os.listdir(folder):\n",
    "    os.remove(folder + \"\\\\\" + file)\n",
    "\n",
    "policy.exploration_rate = 0.03\n",
    "\n",
    "while True:\n",
    "    _,_,done,message = dqn_agent.move(env,render=True)\n",
    "    print(message)\n",
    "    if done:\n",
    "        break"
   ]
  }
 ],
 "metadata": {
  "kernelspec": {
   "display_name": "STTT",
   "language": "python",
   "name": "python3"
  },
  "language_info": {
   "codemirror_mode": {
    "name": "ipython",
    "version": 3
   },
   "file_extension": ".py",
   "mimetype": "text/x-python",
   "name": "python",
   "nbconvert_exporter": "python",
   "pygments_lexer": "ipython3",
   "version": "3.9.18"
  }
 },
 "nbformat": 4,
 "nbformat_minor": 2
}
